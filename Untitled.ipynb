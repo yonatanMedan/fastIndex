{
 "cells": [
  {
   "cell_type": "code",
   "execution_count": 10,
   "metadata": {
    "collapsed": true
   },
   "outputs": [],
   "source": [
    "def create_slice(index_names,*args,**kwargs):\n",
    "    return tuple(map(lambda indx:kwargs.get(indx,slice(None)) ,index_names))"
   ]
  },
  {
   "cell_type": "code",
   "execution_count": 11,
   "metadata": {
    "collapsed": true
   },
   "outputs": [],
   "source": [
    "index_names = [\"index_1\",\"index_2\"]"
   ]
  },
  {
   "cell_type": "code",
   "execution_count": null,
   "metadata": {
    "collapsed": true
   },
   "outputs": [],
   "source": []
  },
  {
   "cell_type": "code",
   "execution_count": 12,
   "metadata": {},
   "outputs": [
    {
     "data": {
      "text/plain": [
       "('3', slice(None, None, None))"
      ]
     },
     "execution_count": 12,
     "metadata": {},
     "output_type": "execute_result"
    }
   ],
   "source": [
    "create_slice(index_names,index_1=\"3\")"
   ]
  },
  {
   "cell_type": "code",
   "execution_count": 14,
   "metadata": {
    "collapsed": true
   },
   "outputs": [],
   "source": [
    "import pandas as pd"
   ]
  },
  {
   "cell_type": "code",
   "execution_count": null,
   "metadata": {
    "collapsed": true
   },
   "outputs": [],
   "source": [
    "@pd.api.extensions.register_dataframe_accessor(\"fidx\")\n",
    "class FastIndex(object):\n",
    "    def __init__(self, df):\n",
    "        self._validate(pandas_obj)\n",
    "        self._df = df\n",
    "\n",
    "    @staticmethod\n",
    "    def _validate(obj):\n",
    "        if 'lat' not in obj.columns or 'lon' not in obj.columns:\n",
    "            raise AttributeError(\"Must have 'lat' and 'lon'.\")\n",
    "\n",
    "    @property\n",
    "    def f_slice(self,**kwargs):\n",
    "        # return the geographic center point of this DataFrame\n",
    "        return df.index.names\n",
    "\n",
    "    def plot(self):\n",
    "        # plot this array's data on a map, e.g., using Cartopy\n",
    "        pass"
   ]
  }
 ],
 "metadata": {
  "kernelspec": {
   "display_name": "Python 3",
   "language": "python",
   "name": "python3"
  },
  "language_info": {
   "codemirror_mode": {
    "name": "ipython",
    "version": 3
   },
   "file_extension": ".py",
   "mimetype": "text/x-python",
   "name": "python",
   "nbconvert_exporter": "python",
   "pygments_lexer": "ipython3",
   "version": "3.6.1"
  }
 },
 "nbformat": 4,
 "nbformat_minor": 2
}
